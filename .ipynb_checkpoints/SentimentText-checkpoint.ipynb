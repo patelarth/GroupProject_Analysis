{
 "cells": [
  {
   "cell_type": "markdown",
   "metadata": {},
   "source": [
    "## Sentiment Text Analysis\n",
    "\n",
    "#### This file is for sentiment analysis for the reviews from the user. Exploring data, evaluating results using Logistic Regression. "
   ]
  },
  {
   "cell_type": "code",
   "execution_count": 1,
   "metadata": {},
   "outputs": [
    {
     "name": "stderr",
     "output_type": "stream",
     "text": [
      "[nltk_data] Downloading package movie_reviews to\n",
      "[nltk_data]     C:\\Users\\vaibh\\AppData\\Roaming\\nltk_data...\n",
      "[nltk_data]   Package movie_reviews is already up-to-date!\n"
     ]
    }
   ],
   "source": [
    "#importing packages\n",
    "import pandas as pd\n",
    "import numpy as np\n",
    "import nltk.classify.util\n",
    "from nltk.classify import NaiveBayesClassifier\n",
    "from nltk.corpus import movie_reviews\n",
    "from nltk.corpus import stopwords\n",
    "from nltk.tokenize import word_tokenize\n",
    "from textblob import TextBlob\n",
    "nltk.download('movie_reviews')\n",
    "#import requests\n",
    "import re"
   ]
  },
  {
   "cell_type": "code",
   "execution_count": 2,
   "metadata": {},
   "outputs": [],
   "source": [
    "#reading the data file \n",
    "df_cleaning = pd.read_csv(\"dataset/googleplaystore_user_reviews.csv\")"
   ]
  },
  {
   "cell_type": "code",
   "execution_count": 3,
   "metadata": {},
   "outputs": [
    {
     "data": {
      "text/html": [
       "<div>\n",
       "<style scoped>\n",
       "    .dataframe tbody tr th:only-of-type {\n",
       "        vertical-align: middle;\n",
       "    }\n",
       "\n",
       "    .dataframe tbody tr th {\n",
       "        vertical-align: top;\n",
       "    }\n",
       "\n",
       "    .dataframe thead th {\n",
       "        text-align: right;\n",
       "    }\n",
       "</style>\n",
       "<table border=\"1\" class=\"dataframe\">\n",
       "  <thead>\n",
       "    <tr style=\"text-align: right;\">\n",
       "      <th></th>\n",
       "      <th>App</th>\n",
       "      <th>Translated_Review</th>\n",
       "      <th>Sentiment</th>\n",
       "      <th>Sentiment_Polarity</th>\n",
       "      <th>Sentiment_Subjectivity</th>\n",
       "    </tr>\n",
       "  </thead>\n",
       "  <tbody>\n",
       "    <tr>\n",
       "      <th>21626</th>\n",
       "      <td>Calorie Counter &amp; Diet Tracker</td>\n",
       "      <td>I really like Spark shows many calories I'm ea...</td>\n",
       "      <td>Positive</td>\n",
       "      <td>0.345313</td>\n",
       "      <td>0.360000</td>\n",
       "    </tr>\n",
       "    <tr>\n",
       "      <th>45783</th>\n",
       "      <td>Final Fantasy XV: A New Empire</td>\n",
       "      <td>You're honestly better playing game. It starts...</td>\n",
       "      <td>Positive</td>\n",
       "      <td>0.063333</td>\n",
       "      <td>0.549167</td>\n",
       "    </tr>\n",
       "    <tr>\n",
       "      <th>38831</th>\n",
       "      <td>Easy Installer - Apps On SD</td>\n",
       "      <td>thank</td>\n",
       "      <td>Neutral</td>\n",
       "      <td>0.000000</td>\n",
       "      <td>0.000000</td>\n",
       "    </tr>\n",
       "    <tr>\n",
       "      <th>44083</th>\n",
       "      <td>Fandango Movies - Times + Tickets</td>\n",
       "      <td>GOING TO THE MOVIES MADE EASY!! love love love...</td>\n",
       "      <td>Positive</td>\n",
       "      <td>0.535417</td>\n",
       "      <td>0.626667</td>\n",
       "    </tr>\n",
       "    <tr>\n",
       "      <th>52277</th>\n",
       "      <td>Game of Thrones: Conquest™</td>\n",
       "      <td>Really I think game sucks</td>\n",
       "      <td>Negative</td>\n",
       "      <td>-0.166667</td>\n",
       "      <td>0.300000</td>\n",
       "    </tr>\n",
       "  </tbody>\n",
       "</table>\n",
       "</div>"
      ],
      "text/plain": [
       "                                     App  \\\n",
       "21626     Calorie Counter & Diet Tracker   \n",
       "45783     Final Fantasy XV: A New Empire   \n",
       "38831        Easy Installer - Apps On SD   \n",
       "44083  Fandango Movies - Times + Tickets   \n",
       "52277         Game of Thrones: Conquest™   \n",
       "\n",
       "                                       Translated_Review Sentiment  \\\n",
       "21626  I really like Spark shows many calories I'm ea...  Positive   \n",
       "45783  You're honestly better playing game. It starts...  Positive   \n",
       "38831                                              thank   Neutral   \n",
       "44083  GOING TO THE MOVIES MADE EASY!! love love love...  Positive   \n",
       "52277                          Really I think game sucks  Negative   \n",
       "\n",
       "       Sentiment_Polarity  Sentiment_Subjectivity  \n",
       "21626            0.345313                0.360000  \n",
       "45783            0.063333                0.549167  \n",
       "38831            0.000000                0.000000  \n",
       "44083            0.535417                0.626667  \n",
       "52277           -0.166667                0.300000  "
      ]
     },
     "execution_count": 3,
     "metadata": {},
     "output_type": "execute_result"
    }
   ],
   "source": [
    "#printing first 5 samples\n",
    "df_cleaning.sample(5)"
   ]
  },
  {
   "cell_type": "code",
   "execution_count": 4,
   "metadata": {},
   "outputs": [],
   "source": [
    "#removing sentiment, Sentimnet_polarity sentimnet_subjectivity\n",
    "df = df_cleaning.drop(columns=['Sentiment','Sentiment_Polarity','Sentiment_Subjectivity'],axis=1)"
   ]
  },
  {
   "cell_type": "code",
   "execution_count": 5,
   "metadata": {},
   "outputs": [
    {
     "data": {
      "text/html": [
       "<div>\n",
       "<style scoped>\n",
       "    .dataframe tbody tr th:only-of-type {\n",
       "        vertical-align: middle;\n",
       "    }\n",
       "\n",
       "    .dataframe tbody tr th {\n",
       "        vertical-align: top;\n",
       "    }\n",
       "\n",
       "    .dataframe thead th {\n",
       "        text-align: right;\n",
       "    }\n",
       "</style>\n",
       "<table border=\"1\" class=\"dataframe\">\n",
       "  <thead>\n",
       "    <tr style=\"text-align: right;\">\n",
       "      <th></th>\n",
       "      <th>App</th>\n",
       "      <th>Translated_Review</th>\n",
       "    </tr>\n",
       "  </thead>\n",
       "  <tbody>\n",
       "    <tr>\n",
       "      <th>0</th>\n",
       "      <td>10 Best Foods for You</td>\n",
       "      <td>I like eat delicious food. That's I'm cooking ...</td>\n",
       "    </tr>\n",
       "    <tr>\n",
       "      <th>1</th>\n",
       "      <td>10 Best Foods for You</td>\n",
       "      <td>This help eating healthy exercise regular basis</td>\n",
       "    </tr>\n",
       "    <tr>\n",
       "      <th>2</th>\n",
       "      <td>10 Best Foods for You</td>\n",
       "      <td>NaN</td>\n",
       "    </tr>\n",
       "    <tr>\n",
       "      <th>3</th>\n",
       "      <td>10 Best Foods for You</td>\n",
       "      <td>Works great especially going grocery store</td>\n",
       "    </tr>\n",
       "    <tr>\n",
       "      <th>4</th>\n",
       "      <td>10 Best Foods for You</td>\n",
       "      <td>Best idea us</td>\n",
       "    </tr>\n",
       "  </tbody>\n",
       "</table>\n",
       "</div>"
      ],
      "text/plain": [
       "                     App                                  Translated_Review\n",
       "0  10 Best Foods for You  I like eat delicious food. That's I'm cooking ...\n",
       "1  10 Best Foods for You    This help eating healthy exercise regular basis\n",
       "2  10 Best Foods for You                                                NaN\n",
       "3  10 Best Foods for You         Works great especially going grocery store\n",
       "4  10 Best Foods for You                                       Best idea us"
      ]
     },
     "execution_count": 5,
     "metadata": {},
     "output_type": "execute_result"
    }
   ],
   "source": [
    "#after removing dataframe\n",
    "df.head()"
   ]
  },
  {
   "cell_type": "code",
   "execution_count": 6,
   "metadata": {},
   "outputs": [],
   "source": [
    "#dropping the null values\n",
    "df = df.dropna()"
   ]
  },
  {
   "cell_type": "code",
   "execution_count": 7,
   "metadata": {},
   "outputs": [],
   "source": [
    "#method for generate words as features\n",
    "def word_featurs(text):\n",
    "    word_list = []\n",
    "    #cleaning text\n",
    "    text = re.sub('[^a-zA-Z]', ' ', text)\n",
    "    #converting to lower\n",
    "    text = text.lower()\n",
    "    # remove special characters and digits\n",
    "    text=re.sub(\"(\\\\d|\\\\W)+\",\" \",text)\n",
    "    # picking only the word from the text\n",
    "    for word in word_tokenize(text):\n",
    "        if word not in stopwords.words(\"english\"):\n",
    "            word_list.append(word)\n",
    "    d = dict([(word, True) for word in word_list])\n",
    "    return d"
   ]
  },
  {
   "cell_type": "code",
   "execution_count": 8,
   "metadata": {},
   "outputs": [],
   "source": [
    "# seperating list of negative word from movie reviews\n",
    "neg = []\n",
    "for i in movie_reviews.fileids('neg'):\n",
    "    words = movie_reviews.words(i)\n",
    "    words = word_featurs(str(words))\n",
    "    neg.append((words,\"negative\"))\n",
    "# seperating list of positive word from movie reviews    \n",
    "pos = []\n",
    "for i in movie_reviews.fileids('pos'):\n",
    "    words = movie_reviews.words(i)\n",
    "    words = word_featurs(str(words))\n",
    "    pos.append((words,\"positive\"))"
   ]
  },
  {
   "cell_type": "code",
   "execution_count": 9,
   "metadata": {},
   "outputs": [],
   "source": [
    "#training set is added with negatiive and positive words up to 200 \n",
    "train_set = neg + pos\n",
    "test_set = neg[:200] + pos[:200]"
   ]
  },
  {
   "cell_type": "markdown",
   "metadata": {},
   "source": [
    "#### After we have used sentimental analysis to store the positive and negative words in different groups, we try to find the Accuracy through Naive Bayes Classifier to the trained dataset"
   ]
  },
  {
   "cell_type": "code",
   "execution_count": 10,
   "metadata": {},
   "outputs": [
    {
     "name": "stdout",
     "output_type": "stream",
     "text": [
      "0.9025\n"
     ]
    }
   ],
   "source": [
    "# using naive bayes classifier to train the data set and find accuracy\n",
    "clf = NaiveBayesClassifier.train(train_set)\n",
    "accuracy = nltk.classify.util.accuracy(clf,test_set)\n",
    "print(accuracy)"
   ]
  },
  {
   "cell_type": "markdown",
   "metadata": {},
   "source": [
    "#### From the Naive Bayes Classifier to our trained dataset we can see that our Accuracy is coming to 90%"
   ]
  },
  {
   "cell_type": "code",
   "execution_count": 20,
   "metadata": {},
   "outputs": [],
   "source": [
    "# Build your model - defining training and test data sets then use TFIDVectorizer\n",
    "from sklearn.feature_extraction.text import TfidfTransformer,TfidfVectorizer\n",
    "from sklearn.model_selection import train_test_split\n",
    "#splitting  the translated review and sentiments into train and test model\n",
    "X_train, X_test, y_train, y_test = train_test_split(df['Translated_Review'],df['Sentiment'], test_size=0.2)\n",
    "tfidf = TfidfVectorizer(max_df=0.8, max_features=10000)\n",
    "xtrain_tfidf = tfidf.fit_transform(X_train)\n",
    "xval_tfidf = tfidf.transform(X_test)"
   ]
  },
  {
   "cell_type": "code",
   "execution_count": 21,
   "metadata": {},
   "outputs": [
    {
     "name": "stderr",
     "output_type": "stream",
     "text": [
      "C:\\Users\\Arth Patel\\Anaconda3\\lib\\site-packages\\sklearn\\linear_model\\logistic.py:433: FutureWarning: Default solver will be changed to 'lbfgs' in 0.22. Specify a solver to silence this warning.\n",
      "  FutureWarning)\n"
     ]
    },
    {
     "name": "stdout",
     "output_type": "stream",
     "text": [
      "F1 score:  0.9006144803633449 Accuracy score :  0.9006144803633449\n"
     ]
    }
   ],
   "source": [
    "# use Logistic Regression and LinearRegression to build a model\n",
    "from sklearn.linear_model import LinearRegression,LogisticRegression\n",
    "lr = LogisticRegression()\n",
    "lr.fit(xtrain_tfidf,y_train)\n",
    "from sklearn.metrics import accuracy_score,f1_score\n",
    "y_pred = lr.predict(xval_tfidf)\n",
    "#  Evaluate the model, find F1 score and Accuracy score\n",
    "print('F1 score: ',f1_score(y_test, y_pred, average=\"micro\"),'Accuracy score : ', accuracy_score(y_test, y_pred))"
   ]
  },
  {
   "cell_type": "markdown",
   "metadata": {},
   "source": [
    "#### From the logistic Regression , we can see that our F1 score is ~ 1, which is a really good score and our accuracy score is 90%, stating that our accuracy is also really good"
   ]
  },
  {
   "cell_type": "code",
   "execution_count": 11,
   "metadata": {},
   "outputs": [],
   "source": [
    "df['Sentiment'] = \"\""
   ]
  },
  {
   "cell_type": "code",
   "execution_count": 12,
   "metadata": {},
   "outputs": [],
   "source": [
    "# getting the id, words and sentiments from reviews\n",
    "for i in range(len(df.App)):\n",
    "    id_ = df.index[i]\n",
    "    words = word_featurs(str(df.Translated_Review[id_]))\n",
    "    df.Sentiment[id_]= clf.classify(words)"
   ]
  },
  {
   "cell_type": "code",
   "execution_count": 13,
   "metadata": {
    "scrolled": true
   },
   "outputs": [
    {
     "data": {
      "text/plain": [
       "<matplotlib.axes._subplots.AxesSubplot at 0x260313b6dd8>"
      ]
     },
     "execution_count": 13,
     "metadata": {},
     "output_type": "execute_result"
    },
    {
     "data": {
      "image/png": "[encoded data removed]",
      "text/plain": [
       "<Figure size 432x288 with 1 Axes>"
      ]
     },
     "metadata": {},
     "output_type": "display_data"
    }
   ],
   "source": [
    "#plot a graph for sentiments and count of the number of sentiments\n",
    "import matplotlib.pyplot as plt\n",
    "import seaborn as sns\n",
    "%matplotlib inline\n",
    "plt.xlabel('Sentiment')\n",
    "plt.ylabel('count')\n",
    "plt.title(\"counts of the postive and negative reviews.\")\n",
    "sns.barplot(df.Sentiment.value_counts().index,df.Sentiment.value_counts().values)"
   ]
  },
  {
   "cell_type": "markdown",
   "metadata": {},
   "source": [
    "#### The above plot shows the sentiment analysis of the Google playstore reviews, which is more negative biased."
   ]
  },
  {
   "cell_type": "code",
   "execution_count": 14,
   "metadata": {},
   "outputs": [],
   "source": [
    "df['polarity'] = ''\n",
    "df['subjectivity'] = ''"
   ]
  },
  {
   "cell_type": "code",
   "execution_count": 17,
   "metadata": {},
   "outputs": [],
   "source": [
    "# printing the polarity and subjectivity of the app \n",
    "for i in range(len(df.App)):\n",
    "    id_ = df.index[i]\n",
    "    words = df.Translated_Review[id_]\n",
    "    df['polarity'][id_] = TextBlob(str(words)).sentiment[0]\n",
    "    df['subjectivity'][id_] = TextBlob(str(words)).sentiment[1]"
   ]
  },
  {
   "cell_type": "code",
   "execution_count": 18,
   "metadata": {},
   "outputs": [
    {
     "data": {
      "text/html": [
       "<div>\n",
       "<style scoped>\n",
       "    .dataframe tbody tr th:only-of-type {\n",
       "        vertical-align: middle;\n",
       "    }\n",
       "\n",
       "    .dataframe tbody tr th {\n",
       "        vertical-align: top;\n",
       "    }\n",
       "\n",
       "    .dataframe thead th {\n",
       "        text-align: right;\n",
       "    }\n",
       "</style>\n",
       "<table border=\"1\" class=\"dataframe\">\n",
       "  <thead>\n",
       "    <tr style=\"text-align: right;\">\n",
       "      <th></th>\n",
       "      <th>App</th>\n",
       "      <th>Translated_Review</th>\n",
       "      <th>Sentiment</th>\n",
       "      <th>polarity</th>\n",
       "      <th>subjectivity</th>\n",
       "    </tr>\n",
       "  </thead>\n",
       "  <tbody>\n",
       "    <tr>\n",
       "      <th>0</th>\n",
       "      <td>10 Best Foods for You</td>\n",
       "      <td>I like eat delicious food. That's I'm cooking ...</td>\n",
       "      <td>positive</td>\n",
       "      <td>1</td>\n",
       "      <td>0.533333</td>\n",
       "    </tr>\n",
       "    <tr>\n",
       "      <th>1</th>\n",
       "      <td>10 Best Foods for You</td>\n",
       "      <td>This help eating healthy exercise regular basis</td>\n",
       "      <td>positive</td>\n",
       "      <td>0.25</td>\n",
       "      <td>0.288462</td>\n",
       "    </tr>\n",
       "    <tr>\n",
       "      <th>3</th>\n",
       "      <td>10 Best Foods for You</td>\n",
       "      <td>Works great especially going grocery store</td>\n",
       "      <td>positive</td>\n",
       "      <td>0.4</td>\n",
       "      <td>0.875</td>\n",
       "    </tr>\n",
       "    <tr>\n",
       "      <th>4</th>\n",
       "      <td>10 Best Foods for You</td>\n",
       "      <td>Best idea us</td>\n",
       "      <td>positive</td>\n",
       "      <td>1</td>\n",
       "      <td>0.3</td>\n",
       "    </tr>\n",
       "    <tr>\n",
       "      <th>5</th>\n",
       "      <td>10 Best Foods for You</td>\n",
       "      <td>Best way</td>\n",
       "      <td>negative</td>\n",
       "      <td>1</td>\n",
       "      <td>0.3</td>\n",
       "    </tr>\n",
       "  </tbody>\n",
       "</table>\n",
       "</div>"
      ],
      "text/plain": [
       "                     App                                  Translated_Review  \\\n",
       "0  10 Best Foods for You  I like eat delicious food. That's I'm cooking ...   \n",
       "1  10 Best Foods for You    This help eating healthy exercise regular basis   \n",
       "3  10 Best Foods for You         Works great especially going grocery store   \n",
       "4  10 Best Foods for You                                       Best idea us   \n",
       "5  10 Best Foods for You                                           Best way   \n",
       "\n",
       "  Sentiment polarity subjectivity  \n",
       "0  positive        1     0.533333  \n",
       "1  positive     0.25     0.288462  \n",
       "3  positive      0.4        0.875  \n",
       "4  positive        1          0.3  \n",
       "5  negative        1          0.3  "
      ]
     },
     "execution_count": 18,
     "metadata": {},
     "output_type": "execute_result"
    }
   ],
   "source": [
    "df.head()"
   ]
  },
  {
   "cell_type": "code",
   "execution_count": 19,
   "metadata": {},
   "outputs": [],
   "source": [
    "#export to newsentimentreviews.csv with ploarity and subjectivity for google play store apps review file\n",
    "df.to_csv('dataset/newsentimentreviews.csv')"
   ]
  },
  {
   "cell_type": "code",
   "execution_count": null,
   "metadata": {},
   "outputs": [],
   "source": []
  }
 ],
 "metadata": {
  "kernelspec": {
   "display_name": "Python 3",
   "language": "python",
   "name": "python3"
  },
  "language_info": {
   "codemirror_mode": {
    "name": "ipython",
    "version": 3
   },
   "file_extension": ".py",
   "mimetype": "text/x-python",
   "name": "python",
   "nbconvert_exporter": "python",
   "pygments_lexer": "ipython3",
   "version": "3.6.5"
  }
 },
 "nbformat": 4,
 "nbformat_minor": 2
}
